{
 "cells": [
  {
   "cell_type": "markdown",
   "metadata": {},
   "source": [
    "# 魚釣り過程（ローカルモデル）"
   ]
  },
  {
   "cell_type": "code",
   "execution_count": 1,
   "metadata": {
    "collapsed": true
   },
   "outputs": [],
   "source": [
    "# -*- coding: utf-8 -*-\n",
    "%matplotlib inline\n",
    "import numpy as np\n",
    "import matplotlib.pyplot as plt\n",
    "\n",
    "def lkf(T, Y, x0, P0, Q, R):\n",
    "    '''Linear Kalman Filter with local model\n",
    "    \n",
    "    - 状態方程式\n",
    "        x = A * x_ + w, w ~ N(0,Q)\n",
    "    - 観測方程式\n",
    "        y = C * x + v, v ~ N(0,R)\n",
    "    \n",
    "    Parameters\n",
    "    ==========\n",
    "    - T : ステップ数\n",
    "    - Y : 観測列\n",
    "    - x0 : 初期状態推定値\n",
    "    - P0 : 初期誤差分散\n",
    "    - Q, R : カルマンフィルタの分散\n",
    "    \n",
    "    Returns\n",
    "    =======\n",
    "    - M : 状態推定値列\n",
    "    - S: 推定された共分散行列の列\n",
    "    '''\n",
    "    P=P0 # 初期誤差共分散行列\n",
    "    x_hat = np.array([x0]) # 初期状態推定値\n",
    "\n",
    "    M = [x_hat] # 状態推定値列\n",
    "    S=[P0]\n",
    "    for i in range(T-1):\n",
    "        # 予測ステップ\n",
    "        x_ =  x_hat\n",
    "        P_ =  P + Q\n",
    "        # フィルタリングステップ\n",
    "        yi = Y[i+1] -  x_ # 誤差の算出\n",
    "        g = P_  / float( P_  + R) # カルマンゲインの算出\n",
    "        # 更新\n",
    "        x_hat = x_ + g * yi\n",
    "        P = (1 - g) * P_\n",
    "        M.append(x_hat)\n",
    "        S.append(P)\n",
    "    return M,S"
   ]
  },
  {
   "cell_type": "markdown",
   "metadata": {},
   "source": [
    "## 魚釣り過程実行例"
   ]
  },
  {
   "cell_type": "code",
   "execution_count": 10,
   "metadata": {
    "collapsed": false
   },
   "outputs": [
    {
     "data": {
      "image/png": "[encoded data removed]",
      "text/plain": [
       "<matplotlib.figure.Figure at 0x10611f810>"
      ]
     },
     "metadata": {},
     "output_type": "display_data"
    }
   ],
   "source": [
    "# 状態方程式\n",
    "# x = x_  + w, w ~ N(0,Q)\n",
    "Q = 1\n",
    "# 観測方程式\n",
    "# y = x + v, v ~ N(0,R)\n",
    "R = 1\n",
    "\n",
    "# 観測のテストデータの生成\n",
    "T = 20 # 観測数\n",
    "x = 150 # 初期状態\n",
    "X = [] # 状態列\n",
    "Y = [] # 観測列\n",
    "for i in range(T):\n",
    "    x = x + np.random.normal(0, Q, 1)\n",
    "    X.append(x)\n",
    "    y = x + np.random.normal(0, R, 1)\n",
    "    Y.append(y)\n",
    "\n",
    "# LKF\n",
    "x0 = 150 # 初期状態推定値\n",
    "P0 =1 # 初期誤差共分散行列\n",
    "M,P = lkf(T, Y, x0, P0, Q, R)\n",
    "\n",
    "# 描画\n",
    "a = np.array(np.concatenate(X))\n",
    "plt.plot(a,'rs-.')\n",
    "plt.legend('')\n",
    "a = np.array(np.concatenate(Y))\n",
    "plt.plot(a,'g^-')\n",
    "plt.legend('')\n",
    "a = np.array(np.concatenate(M))\n",
    "plt.plot(a,'bo-')\n",
    "plt.legend(['true','observed','estimated'])\n",
    "#plt.axis('equal')\n",
    "plt.show()\n"
   ]
  },
  {
   "cell_type": "markdown",
   "metadata": {
    "collapsed": false
   },
   "source": [
    "# ロボットの位置推定"
   ]
  },
  {
   "cell_type": "code",
   "execution_count": null,
   "metadata": {
    "collapsed": true
   },
   "outputs": [],
   "source": [
    "#!/usr/bin/env python\n",
    "# -*- coding: utf-8 -*-\n",
    "%matplotlib inline\n",
    "import numpy as np\n",
    "import matplotlib.pyplot as plt\n",
    "\n",
    "def lkf_robot(T, Y, U, mu0, Sigma0, A, B, C, Q, R):\n",
    "    '''Linear Kalman Filter\n",
    "    - 状態方程式\n",
    "        x = A * x_ + B * u + w, w ~ N(0,Q)\n",
    "    - 観測方程式\n",
    "        y = C * x + v, v ~ N(0,R)\n",
    "    \n",
    "    Parameters\n",
    "    ==========\n",
    "    - T : ステップ数\n",
    "    - Y : 観測列\n",
    "    - U : 入力列\n",
    "    - mu0 : 初期状態推定値\n",
    "    - Sigma0 : 初期誤差共分散行列\n",
    "    - A, B, Q : 状態方程式の係数と分散\n",
    "    - C, R: 観測方程式の係数と分散\n",
    "    \n",
    "    Returns\n",
    "    =======\n",
    "    - M : 状態推定値列\n",
    "    - SIG: 共分散行列の列\n",
    "    '''\n",
    "    Sigma=Sigma0 # 初期誤差共分散行列\n",
    "    mu = mu0 # 初期状態推定値\n",
    "\n",
    "    M = [mu] # 状態推定値列\n",
    "    SIG=[Sigma] #共分散行列推定値列\n",
    "    for i in range(T-1):\n",
    "        # 予測ステップを実装してください\n",
    "\n",
    "        # フィルタリングステップを実装してください\n",
    "\n",
    "        ## 更新を実装してください\n",
    "\n",
    "        # 結果の格納\n",
    "        M.append(mu)\n",
    "        SIG.append(Sigma)\n",
    "    return M,SIG\n",
    "\n"
   ]
  },
  {
   "cell_type": "markdown",
   "metadata": {},
   "source": [
    "## ロボットの位置推定実行例"
   ]
  },
  {
   "cell_type": "code",
   "execution_count": null,
   "metadata": {
    "collapsed": false
   },
   "outputs": [],
   "source": [
    "# 状態方程式の定義\n",
    "# x = A * x_ + B * u + w, w ~ N(0,Q)\n",
    "theta=2*np.pi/10\n",
    "A = np.mat([[np.cos(theta),-np.sin(theta)], [np.sin(theta),np.cos(theta)]])\n",
    "B = np.mat([[1,0], [0,1]])\n",
    "Q = np.mat([[1,0], [0,1]])\n",
    "# 観測方程式の定義\n",
    "# y = C * x + v, v ~ N(0,R)\n",
    "C = np.mat([[1,0], [0,1]])\n",
    "R = np.mat([[5,0], [0,5]])\n",
    "\n",
    "# 観測データの生成\n",
    "T = 20 # 観測数\n",
    "x = np.mat([[10],[10]]) # 初期位置\n",
    "X = [] # 状態列\n",
    "Y = [] # 観測列\n",
    "u = np.mat([[1],[1]]) # 風による影響（一定）\n",
    "U = [] # 入力列\n",
    "for i in range(T):\n",
    "    x = A * x + B * u + np.random.multivariate_normal([0, 0], Q, 1).T\n",
    "    X.append(x)\n",
    "    y = C * x + np.random.multivariate_normal([0, 0], R, 1).T\n",
    "    Y.append(y)\n",
    "    U.append(u)\n",
    "\n",
    "# LKF\n",
    "mu0 = np.mat([[10],[10]]) # 初期状態推定値\n",
    "Sigma0 = np.mat([[1,0],[0,1]]) # 初期誤差共分散行列\n",
    "M,Sigma = lkf_robot(T, Y, U, mu0, Sigma0, A, B, C, Q, R)\n",
    "\n",
    "# 描画\n",
    "a, b = np.array(np.concatenate(X,axis=1))\n",
    "plt.plot(a,b,'rs-.')\n",
    "a, b = np.array(np.concatenate(Y,axis=1))\n",
    "plt.plot(a,b,'g^-.')\n",
    "a, b = np.array(np.concatenate(M,axis=1))\n",
    "plt.plot(a,b,'bo-.')\n",
    "plt.legend(['true','observed','estimated'])\n",
    "plt.axis('equal')\n",
    "plt.show()\n"
   ]
  }
 ],
 "metadata": {
  "kernelspec": {
   "display_name": "Python 2",
   "language": "python",
   "name": "python2"
  },
  "language_info": {
   "codemirror_mode": {
    "name": "ipython",
    "version": 2
   },
   "file_extension": ".py",
   "mimetype": "text/x-python",
   "name": "python",
   "nbconvert_exporter": "python",
   "pygments_lexer": "ipython2",
   "version": "2.7.12"
  }
 },
 "nbformat": 4,
 "nbformat_minor": 0
}
